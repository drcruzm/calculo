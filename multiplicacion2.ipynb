{
  "nbformat": 4,
  "nbformat_minor": 0,
  "metadata": {
    "colab": {
      "provenance": [],
      "authorship_tag": "ABX9TyMORg+WjMOR6IvbH+5TpPvV",
      "include_colab_link": true
    },
    "kernelspec": {
      "name": "python3",
      "display_name": "Python 3"
    },
    "language_info": {
      "name": "python"
    }
  },
  "cells": [
    {
      "cell_type": "markdown",
      "metadata": {
        "id": "view-in-github",
        "colab_type": "text"
      },
      "source": [
        "<a href=\"https://colab.research.google.com/github/drcruzm/calculo/blob/main/multiplicacion2.ipynb\" target=\"_parent\"><img src=\"https://colab.research.google.com/assets/colab-badge.svg\" alt=\"Open In Colab\"/></a>"
      ]
    },
    {
      "cell_type": "markdown",
      "source": [
        "![Captura de pantalla 2023-08-13 200128.png](data:image/png;base64,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)"
      ],
      "metadata": {
        "id": "N_cS5gWnyuc8"
      }
    },
    {
      "cell_type": "code",
      "source": [
        "from sympy.matrices import *"
      ],
      "metadata": {
        "id": "QYDYhEMPenUG"
      },
      "execution_count": null,
      "outputs": []
    },
    {
      "cell_type": "code",
      "source": [
        "a = Matrix([[1,2,3],[5,6,7],[5,6,7]]) ; a"
      ],
      "metadata": {
        "colab": {
          "base_uri": "https://localhost:8080/",
          "height": 78
        },
        "id": "Av7BDPiyfFqU",
        "outputId": "bef11cee-c365-4b8a-b86e-dfaf464eb77c"
      },
      "execution_count": null,
      "outputs": [
        {
          "output_type": "execute_result",
          "data": {
            "text/plain": [
              "Matrix([\n",
              "[1, 2, 3],\n",
              "[5, 6, 7],\n",
              "[5, 6, 7]])"
            ],
            "text/latex": "$\\displaystyle \\left[\\begin{matrix}1 & 2 & 3\\\\5 & 6 & 7\\\\5 & 6 & 7\\end{matrix}\\right]$"
          },
          "metadata": {},
          "execution_count": 3
        }
      ]
    },
    {
      "cell_type": "code",
      "source": [
        "b = Matrix([5,6,7]) ; b"
      ],
      "metadata": {
        "colab": {
          "base_uri": "https://localhost:8080/",
          "height": 78
        },
        "id": "rSHuy2I_f9gf",
        "outputId": "cd4b8ad9-9df5-40bd-9299-f36141658ba1"
      },
      "execution_count": null,
      "outputs": [
        {
          "output_type": "execute_result",
          "data": {
            "text/plain": [
              "Matrix([\n",
              "[5],\n",
              "[6],\n",
              "[7]])"
            ],
            "text/latex": "$\\displaystyle \\left[\\begin{matrix}5\\\\6\\\\7\\end{matrix}\\right]$"
          },
          "metadata": {},
          "execution_count": 4
        }
      ]
    },
    {
      "cell_type": "code",
      "source": [
        "M = Matrix([[1, 2, 3], [3, 2, 1]])\n",
        "M\n",
        "N = Matrix([0, 1, 1])\n",
        "N\n",
        "M*N"
      ],
      "metadata": {
        "colab": {
          "base_uri": "https://localhost:8080/",
          "height": 58
        },
        "id": "J4HQAt_HjOzn",
        "outputId": "cfc1c63c-c689-48ee-e9d0-826fe1eb6cda"
      },
      "execution_count": null,
      "outputs": [
        {
          "output_type": "execute_result",
          "data": {
            "text/plain": [
              "Matrix([\n",
              "[1, 2, 3],\n",
              "[3, 2, 1]])"
            ],
            "text/latex": "$\\displaystyle \\left[\\begin{matrix}1 & 2 & 3\\\\3 & 2 & 1\\end{matrix}\\right]$"
          },
          "metadata": {},
          "execution_count": 23
        }
      ]
    },
    {
      "cell_type": "code",
      "execution_count": null,
      "metadata": {
        "colab": {
          "base_uri": "https://localhost:8080/"
        },
        "outputId": "d4dd5691-2d41-4e2c-9d5a-f39d1b35b70e",
        "id": "0ev8ZyV26Obp"
      },
      "outputs": [
        {
          "output_type": "stream",
          "name": "stdout",
          "text": [
            "Matrix A:\n",
            " [[14 11 11]\n",
            " [14 11 11]\n",
            " [12 11 12]]\n",
            "\n",
            "Matrix B:\n",
            " [[12 12]\n",
            " [13 14]\n",
            " [14 13]]\n",
            "\n"
          ]
        }
      ],
      "source": [
        "import numpy as np\n",
        "np.random.seed(27)\n",
        "A = np.random.randint(11,15,size = (3,3))\n",
        "B = np.random.randint(11,15,size = (3,2))\n",
        "print(f\"Matrix A:\\n {A}\\n\")\n",
        "print(f\"Matrix B:\\n {B}\\n\")"
      ]
    },
    {
      "cell_type": "code",
      "source": [
        "A1 = A[2,:]\n",
        "B1 = B[:,0]\n",
        "print(A1)\n",
        "print(B1)"
      ],
      "metadata": {
        "colab": {
          "base_uri": "https://localhost:8080/"
        },
        "id": "P4MjMnGEguwT",
        "outputId": "bf440b4d-c9bd-4673-b16e-ef8333efb06d"
      },
      "execution_count": null,
      "outputs": [
        {
          "output_type": "stream",
          "name": "stdout",
          "text": [
            "[12 11 12]\n",
            "[12 13 14]\n"
          ]
        }
      ]
    },
    {
      "cell_type": "code",
      "source": [
        "C = np.dot(A1,B1)\n",
        "print(C)"
      ],
      "metadata": {
        "colab": {
          "base_uri": "https://localhost:8080/"
        },
        "id": "a97q1w4thMda",
        "outputId": "c673bf35-ce28-4276-c27e-ea4acdbe9d25"
      },
      "execution_count": null,
      "outputs": [
        {
          "output_type": "stream",
          "name": "stdout",
          "text": [
            "455\n"
          ]
        }
      ]
    },
    {
      "cell_type": "code",
      "source": [
        "def multiply_matrix(A,B):\n",
        "  global C\n",
        "  if  A.shape[1] == B.shape[0]:\n",
        "    C = np.zeros((A.shape[0],B.shape[1]),dtype = int)\n",
        "    for row in range(rows):\n",
        "        for col in range(cols):\n",
        "            for elt in range(len(B)):\n",
        "              C[row, col] += A[row, elt] * B[elt, col]\n",
        "    return C\n",
        "  else:\n",
        "    return \"Sorry, cannot multiply A and B.\""
      ],
      "metadata": {
        "id": "y9aRU9526gQ1"
      },
      "execution_count": null,
      "outputs": []
    },
    {
      "cell_type": "code",
      "source": [
        "rows = 3\n",
        "cols = 2\n",
        "D = multiply_matrix(A,B)\n",
        "print(f\"Matrix D:\\n {D}\\n\")"
      ],
      "metadata": {
        "colab": {
          "base_uri": "https://localhost:8080/"
        },
        "id": "q5bD9laO667Q",
        "outputId": "774c9897-36d6-4616-ea87-6b23655aee26"
      },
      "execution_count": null,
      "outputs": [
        {
          "output_type": "stream",
          "name": "stdout",
          "text": [
            "Matrix D:\n",
            " [[465 465]\n",
            " [465 465]\n",
            " [455 454]]\n",
            "\n"
          ]
        }
      ]
    },
    {
      "cell_type": "code",
      "source": [
        "C = A@B\n",
        "print(C)"
      ],
      "metadata": {
        "colab": {
          "base_uri": "https://localhost:8080/"
        },
        "id": "nVt4zaCnfwJV",
        "outputId": "a8882a8f-492b-4f3f-c0f7-61d736004b0c"
      },
      "execution_count": null,
      "outputs": [
        {
          "output_type": "stream",
          "name": "stdout",
          "text": [
            "[[465 465]\n",
            " [465 465]\n",
            " [455 454]]\n"
          ]
        }
      ]
    },
    {
      "cell_type": "code",
      "source": [
        "C = np.matmul(A,B)\n",
        "print(C)"
      ],
      "metadata": {
        "colab": {
          "base_uri": "https://localhost:8080/"
        },
        "id": "qJeo9Q3ihZ-h",
        "outputId": "164208b2-3102-4743-e131-55bd330b8de8"
      },
      "execution_count": null,
      "outputs": [
        {
          "output_type": "stream",
          "name": "stdout",
          "text": [
            "[[465 465]\n",
            " [465 465]\n",
            " [455 454]]\n"
          ]
        }
      ]
    },
    {
      "cell_type": "code",
      "source": [
        "M = np.array([[1, 2, 3], [3, 2, 1]])\n",
        "print(M)\n",
        "N = np.array([[0], [1], [1]])\n",
        "print(N)"
      ],
      "metadata": {
        "colab": {
          "base_uri": "https://localhost:8080/"
        },
        "id": "7Wt-F8IAhXSf",
        "outputId": "70799d6f-6d6b-4aff-b32d-1675d8cd6890"
      },
      "execution_count": null,
      "outputs": [
        {
          "output_type": "stream",
          "name": "stdout",
          "text": [
            "[[1 2 3]\n",
            " [3 2 1]]\n",
            "[[0]\n",
            " [1]\n",
            " [1]]\n"
          ]
        }
      ]
    },
    {
      "cell_type": "code",
      "source": [
        "print(np.shape(M))\n",
        "print(np.shape(N))"
      ],
      "metadata": {
        "colab": {
          "base_uri": "https://localhost:8080/"
        },
        "id": "r2wN97QriSnW",
        "outputId": "2148d441-deb6-4e50-962f-ce50dcdae7e9"
      },
      "execution_count": null,
      "outputs": [
        {
          "output_type": "stream",
          "name": "stdout",
          "text": [
            "(2, 3)\n",
            "(3, 1)\n"
          ]
        }
      ]
    },
    {
      "cell_type": "code",
      "source": [
        "C = M@N\n",
        "print(C)"
      ],
      "metadata": {
        "colab": {
          "base_uri": "https://localhost:8080/"
        },
        "outputId": "f96bbecd-3905-435d-d1a6-353cd72f27c3",
        "id": "YQpE6cM8iGYl"
      },
      "execution_count": null,
      "outputs": [
        {
          "output_type": "stream",
          "name": "stdout",
          "text": [
            "[[5]\n",
            " [3]]\n"
          ]
        }
      ]
    },
    {
      "cell_type": "code",
      "source": [
        "C2 = Matrix(C.T) ; C"
      ],
      "metadata": {
        "colab": {
          "base_uri": "https://localhost:8080/"
        },
        "id": "Qb4kP2-FvNsl",
        "outputId": "5380a815-2026-4d0c-89ab-36cb86d0c3f3"
      },
      "execution_count": 26,
      "outputs": [
        {
          "output_type": "execute_result",
          "data": {
            "text/plain": [
              "array([[5],\n",
              "       [3]])"
            ]
          },
          "metadata": {},
          "execution_count": 26
        }
      ]
    },
    {
      "cell_type": "code",
      "source": [
        "C3 = Matrix(C);C3"
      ],
      "metadata": {
        "colab": {
          "base_uri": "https://localhost:8080/",
          "height": 58
        },
        "id": "VEGkmxQ3vRWy",
        "outputId": "1c64b87b-db47-4591-b6b7-d5616665be76"
      },
      "execution_count": 27,
      "outputs": [
        {
          "output_type": "execute_result",
          "data": {
            "text/plain": [
              "Matrix([\n",
              "[5],\n",
              "[3]])"
            ],
            "text/latex": "$\\displaystyle \\left[\\begin{matrix}5\\\\3\\end{matrix}\\right]$"
          },
          "metadata": {},
          "execution_count": 27
        }
      ]
    }
  ]
}