{
  "nbformat": 4,
  "nbformat_minor": 0,
  "metadata": {
    "colab": {
      "provenance": [],
      "authorship_tag": "ABX9TyOFy0XydgnU10ZCVIPIlPZU",
      "include_colab_link": true
    },
    "kernelspec": {
      "name": "python3",
      "display_name": "Python 3"
    },
    "language_info": {
      "name": "python"
    }
  },
  "cells": [
    {
      "cell_type": "markdown",
      "metadata": {
        "id": "view-in-github",
        "colab_type": "text"
      },
      "source": [
        "<a href=\"https://colab.research.google.com/github/drcruzm/calculo/blob/main/multiplicacion.ipynb\" target=\"_parent\"><img src=\"https://colab.research.google.com/assets/colab-badge.svg\" alt=\"Open In Colab\"/></a>"
      ]
    },
    {
      "cell_type": "code",
      "execution_count": 1,
      "metadata": {
        "colab": {
          "base_uri": "https://localhost:8080/"
        },
        "outputId": "22e503fb-062a-4973-baa7-9973dc7430b3",
        "id": "0ev8ZyV26Obp"
      },
      "outputs": [
        {
          "output_type": "stream",
          "name": "stdout",
          "text": [
            "Matrix A:\n",
            " [[14 11 11]\n",
            " [14 11 11]\n",
            " [12 11 12]]\n",
            "\n",
            "Matrix B:\n",
            " [[12 12]\n",
            " [13 14]\n",
            " [14 13]]\n",
            "\n"
          ]
        }
      ],
      "source": [
        "import numpy as np\n",
        "np.random.seed(27)\n",
        "A = np.random.randint(11,15,size = (3,3))\n",
        "B = np.random.randint(11,15,size = (3,2))\n",
        "print(f\"Matrix A:\\n {A}\\n\")\n",
        "print(f\"Matrix B:\\n {B}\\n\")"
      ]
    },
    {
      "cell_type": "code",
      "source": [
        "A1 = A[2,:]\n",
        "B1 = B[:,1]\n",
        "print(A1)\n",
        "print(B1)"
      ],
      "metadata": {
        "colab": {
          "base_uri": "https://localhost:8080/"
        },
        "id": "P4MjMnGEguwT",
        "outputId": "3619fd62-9900-4873-a8c5-99dc6ed8ec02"
      },
      "execution_count": 12,
      "outputs": [
        {
          "output_type": "stream",
          "name": "stdout",
          "text": [
            "[12 11 12]\n",
            "[12 14 13]\n"
          ]
        }
      ]
    },
    {
      "cell_type": "code",
      "source": [
        "C = np.dot(A1,B1)\n",
        "print(C)"
      ],
      "metadata": {
        "colab": {
          "base_uri": "https://localhost:8080/"
        },
        "id": "a97q1w4thMda",
        "outputId": "b414a375-b66b-4c76-e456-4045879a2bb6"
      },
      "execution_count": 13,
      "outputs": [
        {
          "output_type": "stream",
          "name": "stdout",
          "text": [
            "454\n"
          ]
        }
      ]
    },
    {
      "cell_type": "code",
      "source": [
        "def multiply_matrix(A,B):\n",
        "  global C\n",
        "  if  A.shape[1] == B.shape[0]:\n",
        "    C = np.zeros((A.shape[0],B.shape[1]),dtype = int)\n",
        "    for row in range(rows):\n",
        "        for col in range(cols):\n",
        "            for elt in range(len(B)):\n",
        "              C[row, col] += A[row, elt] * B[elt, col]\n",
        "    return C\n",
        "  else:\n",
        "    return \"Sorry, cannot multiply A and B.\""
      ],
      "metadata": {
        "id": "y9aRU9526gQ1"
      },
      "execution_count": 3,
      "outputs": []
    },
    {
      "cell_type": "code",
      "source": [
        "rows = 3\n",
        "cols = 2\n",
        "D = multiply_matrix(A,B)\n",
        "print(f\"Matrix D:\\n {D}\\n\")"
      ],
      "metadata": {
        "colab": {
          "base_uri": "https://localhost:8080/"
        },
        "id": "q5bD9laO667Q",
        "outputId": "774c9897-36d6-4616-ea87-6b23655aee26"
      },
      "execution_count": 6,
      "outputs": [
        {
          "output_type": "stream",
          "name": "stdout",
          "text": [
            "Matrix D:\n",
            " [[465 465]\n",
            " [465 465]\n",
            " [455 454]]\n",
            "\n"
          ]
        }
      ]
    },
    {
      "cell_type": "code",
      "source": [
        "C = A@B\n",
        "print(C)"
      ],
      "metadata": {
        "colab": {
          "base_uri": "https://localhost:8080/"
        },
        "id": "nVt4zaCnfwJV",
        "outputId": "a8882a8f-492b-4f3f-c0f7-61d736004b0c"
      },
      "execution_count": 5,
      "outputs": [
        {
          "output_type": "stream",
          "name": "stdout",
          "text": [
            "[[465 465]\n",
            " [465 465]\n",
            " [455 454]]\n"
          ]
        }
      ]
    },
    {
      "cell_type": "code",
      "source": [
        "C = np.matmul(A,B)\n",
        "print(C)"
      ],
      "metadata": {
        "colab": {
          "base_uri": "https://localhost:8080/"
        },
        "id": "qJeo9Q3ihZ-h",
        "outputId": "164208b2-3102-4743-e131-55bd330b8de8"
      },
      "execution_count": 9,
      "outputs": [
        {
          "output_type": "stream",
          "name": "stdout",
          "text": [
            "[[465 465]\n",
            " [465 465]\n",
            " [455 454]]\n"
          ]
        }
      ]
    }
  ]
}