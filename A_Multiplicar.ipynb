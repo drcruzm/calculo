{
  "nbformat": 4,
  "nbformat_minor": 0,
  "metadata": {
    "colab": {
      "provenance": [],
      "authorship_tag": "ABX9TyMSu5FDuDMvrBdKHtZPXB6u",
      "include_colab_link": true
    },
    "kernelspec": {
      "name": "python3",
      "display_name": "Python 3"
    },
    "language_info": {
      "name": "python"
    }
  },
  "cells": [
    {
      "cell_type": "markdown",
      "metadata": {
        "id": "view-in-github",
        "colab_type": "text"
      },
      "source": [
        "<a href=\"https://colab.research.google.com/github/drcruzm/calculo/blob/main/A_Multiplicar.ipynb\" target=\"_parent\"><img src=\"https://colab.research.google.com/assets/colab-badge.svg\" alt=\"Open In Colab\"/></a>"
      ]
    },
    {
      "cell_type": "markdown",
      "source": [
        "\n",
        "# ![favicon.png](data:image/png;base64,iVBORw0KGgoAAAANSUhEUgAAACAAAAAgCAYAAABzenr0AAAAAXNSR0IArs4c6QAACcxJREFUWEeNl3uQXFWdxz/n3Gd3T/dM90ySyTB5EJIhECBhE0N4lhRaIG5R5bKILrW4lGtKVNiFgqJgpSxLrRLEohTFElAByxWF6ELxyKLIblDCI5VCUBCSiZkZyCST6enHdN/3Pce6dzQaJqOeP++9dc/3fH+/3/f7PUJrrVlgZS+0UggUu198mZ2/2sHqE1az7ZGHsVwDA5uO12XNmjXsHx/jpptvYdUJIyihQRpIIREL/fyPz8VCAHJcWvHKrpd4/NHH2L59O6VCgVZ9mnJfL7PdDoa0cByHbreLlBLbtimXy5y84TRuu+0OMK38+V9b8wFk+6JRacKPHnyQu++6C6UUM40mlm3iWAYKSavbpeAUMo5IVYKBRKsUQ4ocRKW3j7u/fS8r1owgpETkVGScHs3JPABzJ0/56D9fyv49b9Fqd/JTJErhez59lTKpUnheSKlUII7jIwfMNs9YyFaSRKxbdyo/2PYThGlhGMYxiTgKQLZ5hrEx+TYXve8CZmc7JKnOaU6SBMhqqjAMSRwluK5LEIVIaaC1Aq0xTSP/tlBwUSpmy9nn8a37vothOzmz4q8xkFEthOD8zZtoTh/CTyBVYJkmSRRjWCYFNwMT4fs+juuSpoo01QihkULkVKtUYNoGjqkZqPXzwUsv4zPX3Yg0jfz/f7nmGMhYF3MdP/rGG/zTxReipUESRZiWgzRNfD/AMG1My8DMeNAJfhRjmiaGNBBa4doGURjjxxHCyKZE0VMoUC5XeGbniyjDzEHOA/CnScwYOHvjBpQX0g1DTANcy6DHLdANAmq1Gh0voNv1WTtyIp7XJQw6LFu6lDTwMHWKKQVvHZjm94cbOI6FTkL6yiW2/sd1/Osnrl4YgNIaqeEfThqh3eng2jaDjslZG09joK/C0HHLSZOUUm+VlhdgC1i2dBDSOD/pbLuB783Snu3w7Eu7+fWBBgqTJOlSkHDuhR/gtq/fjRBHj+WRJswACJ2yftVqghR6bMmHz9/EulUrqfX2USgWcZ0KpmXnY5mmEbZloeKEJA3xI58gCGjUZ5hqNvjRMy9wYDZE6ISyKzlp43u498GH5unCUQBIEzafvJam53PyymH+5YIz6S+VqVZ6KZd783pL0yFNE0Q+99GRcnY8jygJqdfruUg99sIrvP5OnTT0cETKVZ+6lk9ef8MCTZhLhEYkMaecsBItbdYtH+KK959FX0+ZSrmXQqE0B0DaqDhCK43WSd68qRbEaUJWw0OTB5iuH+apl15l99gUYdClaCi2Pfk0q09ZvxCAufkXScLGU9fiBzGnDg9y5QfeS6FUpFLpp1zsxTCyc5t5CYSOEQpSYeClKe2MgdAj7LZoN6fY/uJr7NwzkY9syRa8/Ns3sYrlY5dA6zQXmVSlvG/z6TSaHc5Zt5p/PGcT7VBQ91KWLl7CktoiFvf1YKu5k4exYqI+w8+e28me/eM4rsGq4RonLq4xXm/w/e07SKWiZLnsHt2fl+vd3pD3wJ8UMFOz67deyY4dO7nkPRs4ed3xPLvzNc4572LG9o0ijZQNIyOMLD0OSygONFoc7nTAkixaMkQcxex+/jmqZZOZZoPvPfEMiU4487TTuefxpxAYCLmAF2Qfmoniya/dwWe/fhcfPPsMzti0ntrAMv7nyV/wy92/5rILz2fLKWvASKmWykwcOoySBm9O1HniF8/xb1dcTp+dkgRtDh6u880fPowRR3zpumu46MZbUDjIYwLIHRCE6jLx8DY+/sUvcPEF72XTSat5eddrrDn9LL73yKN88oqPMPbqC6wdOZ5F1Rpjk+8QJpJQloiVYKDiMjM5imVnZqT52gMPcfVVH2OZLTjvxs+ihINhmAsroVABh7b9mN/Wp5iaPkR/0cG2XVynj0rfIuqHpzCthDjwWFSpsWd8Hz29/VTK1dwTDJkiRcLBqUlCnfL/v3yZtcMrWLFymItu+DzKkEi5EAANiYp55YH7KDkmkzOHKNoWBcfFkiZmFj4KLs1mA6/j0V8d4MDUASqVCtXePtJEkwpNq9MijgMarTpamtippLpkKWf8+zVkvSbk0bZ8RIjyRtSaN//vf/HG9hClEZYhqbgVLJElnwJhFDIxPkatdwC34DL2zjgdr8PG9afneSGMAoKoi9eZ5e2DEzjlClE7orJ0kPd/+qY8ixzbDf9YldyUEp9d99xN4CqK2qLslijYRQzHYXL8bYQpcJwS5Z4Ko/v24lomqYpZtXoEPwyY9dq02nWm64ew3RL9PVWMlavZfMlludhlOXG+Hf8lgCyA3vctAjPAVAJXGwxUaky32yRRyvj4fpAWtltAKkWz2WTlqmW5Uvb1Vmg260y3Z2h3mvSUeyn3D7Pl8isRjovKALwrI86LZFm4eP6Rh/Drk1ScFFsLetweWoFPu+lhCCOnP8mkWCm6fif/ccl1GBzop+O1mWk1mPV8hO1wyTW3QLHE3LmzwPI3MmHuiiTM7NvDvh1Po6OASrFM0w9yzbe0wFASaUiiMCHSCanIzEnQVyoSqpDA82l3O4SmxYdu+EK+ab7x/EzK/FSsIJYaKwrY9dADGInPQLXG1EyD6akGncMthhYdR7PTplTuYXxyHLtosmRoMSuWDvGbt35HrVrlUL1OWCjx4es/9+cQ8vcASLLQrQUijXnuh9+lTydYInM7RRB7uHaRbjum2+nSW+tFmAlh6OO6BSzDopVRLzUTBw5y/OYtbL7osjkPMOSxCJjPQFZXLTO3k+z++RMwOY7QIQYWKsuIpk0UapJUYbrZXKV0Z7uUyz0021njVZluTdHuRLzRMphoNLnnO9/AUBba+BupOL86ZPE6x0q+4fM/uAsjFag4plQsohMoFCooZaJ0hNIBURzT8T2iKMQtlnj9rVfpry5hYvGl3HnHf3L1VZfwXzffipZ/DwAUQmVtmDK6v83o9u+g/VmCdpuh5cuQmZ7LAjLPBpooDvBCj9G9exkcGmK6PpUr42i7h3TD1fz3vTdxYn+HO796O0sGhxZ2wyPioEGJGJEK7vz+Tpb7r1P0DuKgmGw2qNaWYEiTKM7yniDVikZrhkrRxTZsmrNNyov6eXtwK2GlytP3306JUWxirr32M5x51pa5rbKLazYd776cZiXQKD7/uS8zeNrlNPbtYr29F6VCLMMmiRWFok2SpJBCEGV3AIvYAL85xcDAMvZaZ6DXnouMBT+991aK/n5UOku11s+K5cNs3fpxhpcP58Z0JJBkMWvuDphy+5e/wutvjHHuR25F9vTT88r9FKNJbEdStF2SyM9TstaSONWEqcZvTVPtP47nG32Uz/4oRdPECxTP3n8zSXsKS4aZDlIqFjCyMXcsqtUqfwCXtS9Qa4h9JwAAAABJRU5ErkJggg==)  Multiplicación de Matrices"
      ],
      "metadata": {
        "id": "Lvt2PNICz-lH"
      }
    },
    {
      "cell_type": "code",
      "execution_count": 3,
      "metadata": {
        "id": "ZVNPIv6Iz8ZA"
      },
      "outputs": [],
      "source": [
        "import numpy as np\n",
        "A = np.zeros((filas,columnas))\n",
        "filas = 2\n",
        "columnas = 3"
      ]
    },
    {
      "cell_type": "code",
      "source": [
        "print ('Ingrese la  matriz')\n",
        "for i in range(filas):\n",
        "        for j in range(columnas):\n",
        "            A[i][j] = float(input('Elemento (%d,%d): ' % (i+1, j+1)))"
      ],
      "metadata": {
        "colab": {
          "base_uri": "https://localhost:8080/"
        },
        "id": "R3nLJ_y935CU",
        "outputId": "267a5862-1f90-4712-ef51-49535e208d22"
      },
      "execution_count": 4,
      "outputs": [
        {
          "name": "stdout",
          "output_type": "stream",
          "text": [
            "Ingrese la  matriz\n",
            "Elemento (1,1): -1\n",
            "Elemento (1,2): 4\n",
            "Elemento (1,3): -2\n",
            "Elemento (2,1): 7\n",
            "Elemento (2,2): 3\n",
            "Elemento (2,3): -6\n"
          ]
        }
      ]
    },
    {
      "cell_type": "code",
      "source": [
        "print(\"Matrix A:\\n\", A)"
      ],
      "metadata": {
        "colab": {
          "base_uri": "https://localhost:8080/"
        },
        "id": "XZvBZuQ85wMa",
        "outputId": "949cbd62-4334-4b7a-c2da-0ca6aa7f115b"
      },
      "execution_count": 11,
      "outputs": [
        {
          "output_type": "stream",
          "name": "stdout",
          "text": [
            "Matrix A :\n",
            " [[-1.  4. -2.]\n",
            " [ 7.  3. -6.]]\n"
          ]
        }
      ]
    },
    {
      "cell_type": "code",
      "source": [
        "5*A"
      ],
      "metadata": {
        "colab": {
          "base_uri": "https://localhost:8080/"
        },
        "id": "OnsZrFFZMMW5",
        "outputId": "5d1dacec-4e06-43eb-b8ff-6e87d816b36c"
      },
      "execution_count": 17,
      "outputs": [
        {
          "output_type": "execute_result",
          "data": {
            "text/plain": [
              "array([[ -5.,  20., -10.],\n",
              "       [ 35.,  15., -30.]])"
            ]
          },
          "metadata": {},
          "execution_count": 17
        }
      ]
    },
    {
      "cell_type": "code",
      "source": [
        "A.shape"
      ],
      "metadata": {
        "colab": {
          "base_uri": "https://localhost:8080/"
        },
        "id": "OmnoLXwJFoOV",
        "outputId": "9f1742ee-226c-447d-b810-5bf561d36c4d"
      },
      "execution_count": 15,
      "outputs": [
        {
          "output_type": "execute_result",
          "data": {
            "text/plain": [
              "(2, 3)"
            ]
          },
          "metadata": {},
          "execution_count": 15
        }
      ]
    },
    {
      "cell_type": "code",
      "source": [
        "B=np.array([[3,-5],[-4,-1],[-2,8]])\n",
        "print(\"Matrix B:\\n\", B )"
      ],
      "metadata": {
        "colab": {
          "base_uri": "https://localhost:8080/"
        },
        "id": "q6XYpfYT7q7t",
        "outputId": "d945dfdb-b857-4ace-e84c-0c3e0f0d1c39"
      },
      "execution_count": 12,
      "outputs": [
        {
          "output_type": "stream",
          "name": "stdout",
          "text": [
            "Matrix B:\n",
            " [[ 3 -5]\n",
            " [-4 -1]\n",
            " [-2  8]]\n"
          ]
        }
      ]
    },
    {
      "cell_type": "code",
      "source": [
        "B.shape"
      ],
      "metadata": {
        "colab": {
          "base_uri": "https://localhost:8080/"
        },
        "id": "p0QYM9nRFwko",
        "outputId": "a8813c32-cc6b-412c-adff-e8f32656c664"
      },
      "execution_count": 16,
      "outputs": [
        {
          "output_type": "execute_result",
          "data": {
            "text/plain": [
              "(3, 2)"
            ]
          },
          "metadata": {},
          "execution_count": 16
        }
      ]
    },
    {
      "cell_type": "code",
      "source": [
        "C = B@A\n",
        "print(C)"
      ],
      "metadata": {
        "colab": {
          "base_uri": "https://localhost:8080/"
        },
        "id": "fN6Olj5zEUKu",
        "outputId": "68e5b9b3-5f55-417a-e77e-49ce87ea2429"
      },
      "execution_count": 14,
      "outputs": [
        {
          "output_type": "stream",
          "name": "stdout",
          "text": [
            "[[-38.  -3.  24.]\n",
            " [ -3. -19.  14.]\n",
            " [ 58.  16. -44.]]\n"
          ]
        }
      ]
    }
  ]
}